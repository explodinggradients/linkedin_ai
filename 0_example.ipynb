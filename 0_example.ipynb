{
 "cells": [
  {
   "cell_type": "markdown",
   "metadata": {},
   "source": [
    "# LinkedIn AI: Getting Started\n",
    "\n",
    "This notebook will guide you through the basic usage of the LinkedIn AI package. \n",
    "\n",
    "You'll: \n",
    "- Set up your environment\n",
    "- Load LinkedIn post data\n",
    "- Interacting with your AI assistant."
   ]
  },
  {
   "cell_type": "markdown",
   "metadata": {},
   "source": [
    "### Step 1: Set Up Your Environment\n",
    "\n",
    "First, let's import the necessary packages and set your OpenAI API key:"
   ]
  },
  {
   "cell_type": "code",
   "execution_count": 1,
   "metadata": {},
   "outputs": [],
   "source": [
    "import os\n",
    "from linkedin_ai import LinkedinAI\n",
    "\n",
    "# Set your OpenAI API key as an environment variable\n",
    "os.environ[\"OPENAI_API_KEY\"] = \"\""
   ]
  },
  {
   "cell_type": "markdown",
   "metadata": {},
   "source": [
    "### Step 2: Initialize Your AI Assistant with BM25 Retrieval\n",
    "\n",
    "Now, let's create an AI assistant that can answer questions based on these posts:"
   ]
  },
  {
   "cell_type": "code",
   "execution_count": null,
   "metadata": {},
   "outputs": [],
   "source": [
    "my_ai = await LinkedinAI.from_bm25(posts=\"data/posts.json\")"
   ]
  },
  {
   "cell_type": "markdown",
   "metadata": {},
   "source": [
    "We created an instance of LinkedinAI, using the from_bm25 method. \n",
    "\n",
    "This method:- \n",
    "- Initializes the assistant with the BM25 algorithm for document retrieval. \n",
    "- Loads all the LinkedIn posts from the JSON file and builds an index for quick retrieval."
   ]
  },
  {
   "cell_type": "markdown",
   "metadata": {},
   "source": [
    "### Step 4: Ask Your First Question\n",
    "Let's ask a question about open-source language models:"
   ]
  },
  {
   "cell_type": "code",
   "execution_count": null,
   "metadata": {},
   "outputs": [],
   "source": [
    "response = await my_ai.ask(\"What are your thoughts on OSS LLMs?\")\n",
    "\n",
    "print(response)"
   ]
  },
  {
   "cell_type": "markdown",
   "metadata": {},
   "source": [
    "Let's try another question:"
   ]
  },
  {
   "cell_type": "code",
   "execution_count": null,
   "metadata": {},
   "outputs": [],
   "source": [
    "response = await my_ai.ask(\"What are your thoughts on closed source LLMs?\")\n",
    "\n",
    "print(response)"
   ]
  },
  {
   "cell_type": "markdown",
   "metadata": {},
   "source": [
    "### Next Steps\n",
    "\n",
    "Now that you've got the basics down, Let's move on to the experiment notebook to learn how to improve your AI assistant"
   ]
  },
  {
   "cell_type": "markdown",
   "metadata": {},
   "source": []
  }
 ],
 "metadata": {
  "kernelspec": {
   "display_name": ".venv",
   "language": "python",
   "name": "python3"
  },
  "language_info": {
   "codemirror_mode": {
    "name": "ipython",
    "version": 3
   },
   "file_extension": ".py",
   "mimetype": "text/x-python",
   "name": "python",
   "nbconvert_exporter": "python",
   "pygments_lexer": "ipython3",
   "version": "3.12.8"
  }
 },
 "nbformat": 4,
 "nbformat_minor": 2
}
