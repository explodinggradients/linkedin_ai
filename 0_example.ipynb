{
 "cells": [
  {
   "cell_type": "markdown",
   "metadata": {},
   "source": [
    "# LinkedIn AI: Getting Started\n",
    "\n",
    "This notebook will guide you through the basic usage of the LinkedIn AI package. \n",
    "\n",
    "You'll: \n",
    "- Set up your environment\n",
    "- Load LinkedIn post data\n",
    "- Interacting with your AI assistant."
   ]
  },
  {
   "cell_type": "markdown",
   "metadata": {},
   "source": [
    "### Step 1: Set Up Your Environment\n",
    "\n",
    "First, let's import the necessary packages and set your OpenAI API key:"
   ]
  },
  {
   "cell_type": "code",
   "execution_count": null,
   "metadata": {},
   "outputs": [],
   "source": [
    "import os\n",
    "from linkedin_ai import LinkedinAI\n",
    "\n",
    "# Set your OpenAI API key as an environment variable\n",
    "os.environ[\"OPENAI_API_KEY\"] = \"\""
   ]
  },
  {
   "cell_type": "markdown",
   "metadata": {},
   "source": [
    "### Step 2: Initialize Your AI Assistant with BM25 Retrieval\n",
    "\n",
    "Now, let's create an AI assistant that can answer questions based on these posts:"
   ]
  },
  {
   "cell_type": "code",
   "execution_count": 11,
   "metadata": {},
   "outputs": [
    {
     "name": "stdout",
     "output_type": "stream",
     "text": [
      "Loaded 437 LinkedIn posts\n",
      "BM25 index initialized\n"
     ]
    }
   ],
   "source": [
    "my_ai = await LinkedinAI.from_bm25(posts=\"data/posts.json\")"
   ]
  },
  {
   "cell_type": "markdown",
   "metadata": {},
   "source": [
    "We created an instance of LinkedinAI, using the from_bm25 method. \n",
    "\n",
    "This method:- \n",
    "- Initializes the assistant with the BM25 algorithm for document retrieval. \n",
    "- Loads all the LinkedIn posts from the JSON file and builds an index for quick retrieval."
   ]
  },
  {
   "cell_type": "markdown",
   "metadata": {},
   "source": [
    "### Step 4: Ask Your First Question\n",
    "Let's ask a question about open-source language models:"
   ]
  },
  {
   "cell_type": "code",
   "execution_count": 12,
   "metadata": {},
   "outputs": [
    {
     "name": "stderr",
     "output_type": "stream",
     "text": [
      "2025/04/17 12:56:45 WARNING mlflow.tracing.processor.mlflow: Creating a trace within the default experiment with id '0'. It is strongly recommended to not use the default experiment to log traces due to ambiguous search results and probable performance issues over time due to directory table listing performance degradation with high volumes of directories within a specific path. To avoid performance and disambiguation issues, set the experiment for your environment using `mlflow.set_experiment()` API.\n"
     ]
    },
    {
     "name": "stdout",
     "output_type": "stream",
     "text": [
      "Open source AI models, particularly large language models (LLMs), have shown significant potential and have led to a surge in applications since the release of models like Llama-2. Contrary to the predictions of some AI doomers, these open source models have not resulted in catastrophic scenarios. Instead, they have fostered innovation and development in the AI community. This suggests that the idea of open source AI models being more dangerous than closed ones is not supported by the evidence we've seen so far.\n"
     ]
    }
   ],
   "source": [
    "response = await my_ai.ask(\"What are your thoughts on OSS LLMs?\")\n",
    "\n",
    "print(response)"
   ]
  },
  {
   "cell_type": "markdown",
   "metadata": {},
   "source": [
    "Let's try another question:"
   ]
  },
  {
   "cell_type": "code",
   "execution_count": 13,
   "metadata": {},
   "outputs": [
    {
     "name": "stdout",
     "output_type": "stream",
     "text": [
      "Closed source LLMs have their place, but it's important to recognize the benefits that open source models bring to the table. Since the release of Llama-2, we've seen an explosion of applications built on open source LLMs without any of the catastrophic scenarios predicted by AI doomers. Open source models foster innovation and collaboration, allowing for a broader range of applications and advancements. While closed source models can offer certain advantages, such as proprietary enhancements and potentially more controlled environments, the open source approach has proven to be a powerful driver of progress in the AI field.\n"
     ]
    }
   ],
   "source": [
    "response = await my_ai.ask(\"What are your thoughts on closed source LLMs?\")\n",
    "\n",
    "print(response)"
   ]
  },
  {
   "cell_type": "markdown",
   "metadata": {},
   "source": [
    "### Next Steps\n",
    "\n",
    "Now that you've got the basics down, Let's move on to the experiment notebook to learn how to improve your AI assistant"
   ]
  },
  {
   "cell_type": "markdown",
   "metadata": {},
   "source": []
  }
 ],
 "metadata": {
  "kernelspec": {
   "display_name": "superme",
   "language": "python",
   "name": "python3"
  },
  "language_info": {
   "codemirror_mode": {
    "name": "ipython",
    "version": 3
   },
   "file_extension": ".py",
   "mimetype": "text/x-python",
   "name": "python",
   "nbconvert_exporter": "python",
   "pygments_lexer": "ipython3",
   "version": "3.11.11"
  }
 },
 "nbformat": 4,
 "nbformat_minor": 2
}
