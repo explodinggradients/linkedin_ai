{
 "cells": [
  {
   "cell_type": "markdown",
   "metadata": {},
   "source": [
    "# Document\n",
    "\n",
    "> class to hold document"
   ]
  },
  {
   "cell_type": "code",
   "execution_count": null,
   "metadata": {},
   "outputs": [],
   "source": []
  },
  {
   "cell_type": "code",
   "execution_count": null,
   "metadata": {},
   "outputs": [],
   "source": [
    "#| default_exp document"
   ]
  },
  {
   "cell_type": "code",
   "execution_count": null,
   "metadata": {},
   "outputs": [],
   "source": [
    "#| export\n",
    "\n",
    "from typing import List, Optional\n",
    "from pydantic import BaseModel, Field\n",
    "\n",
    "class Document(BaseModel):\n",
    "    \"\"\"Pydantic model to represent a LinkedIn post as a document.\"\"\"\n",
    "    id: str\n",
    "    content: str\n",
    "    url: Optional[str] = None\n",
    "    date: Optional[str] = None\n",
    "    embedding: Optional[List[float]] = None\n",
    "    \n",
    "    def __str__(self):\n",
    "        return f\"Post {self.id}: {self.content}\\n (Posted: {self.date})\"\n",
    "\n"
   ]
  },
  {
   "cell_type": "code",
   "execution_count": null,
   "metadata": {},
   "outputs": [
    {
     "data": {
      "text/plain": [
       "'Post 12345: This is a sample LinkedIn post content.\\n (Posted: 2023-10-01)'"
      ]
     },
     "execution_count": null,
     "metadata": {},
     "output_type": "execute_result"
    }
   ],
   "source": [
    "#| hide\n",
    "document = Document(\n",
    "    id=\"12345\",\n",
    "    content=\"This is a sample LinkedIn post content.\",\n",
    "    url=\"https://www.linkedin.com/posts/sample-post\",\n",
    "    date=\"2023-10-01\",\n",
    "    embedding=[0.1, 0.2, 0.3]\n",
    ")\n",
    "str(document)"
   ]
  },
  {
   "cell_type": "code",
   "execution_count": null,
   "metadata": {},
   "outputs": [],
   "source": []
  }
 ],
 "metadata": {
  "kernelspec": {
   "display_name": "python3",
   "language": "python",
   "name": "python3"
  }
 },
 "nbformat": 4,
 "nbformat_minor": 4
}
